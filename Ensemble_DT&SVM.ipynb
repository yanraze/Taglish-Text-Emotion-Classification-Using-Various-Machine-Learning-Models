{
  "nbformat": 4,
  "nbformat_minor": 0,
  "metadata": {
    "colab": {
      "provenance": [],
      "collapsed_sections": [
        "gcgUR6nJrYbc",
        "EvxZ2lDmrfHr",
        "oe_WqIcHroff",
        "BO9dx81mrvxH"
      ],
      "toc_visible": true
    },
    "kernelspec": {
      "name": "python3",
      "display_name": "Python 3"
    },
    "language_info": {
      "name": "python"
    }
  },
  "cells": [
    {
      "cell_type": "markdown",
      "source": [
        "# Libraries"
      ],
      "metadata": {
        "id": "gcgUR6nJrYbc"
      }
    },
    {
      "cell_type": "code",
      "execution_count": null,
      "metadata": {
        "colab": {
          "base_uri": "https://localhost:8080/"
        },
        "id": "pBa5DwfL4-pn",
        "outputId": "da1e754a-a59c-45c6-dd47-774641dd45e7"
      },
      "outputs": [
        {
          "output_type": "stream",
          "name": "stdout",
          "text": [
            "Mounted at /content/drive\n"
          ]
        }
      ],
      "source": [
        "from google.colab import drive\n",
        "drive.mount('/content/drive')"
      ]
    },
    {
      "cell_type": "code",
      "execution_count": null,
      "metadata": {
        "colab": {
          "base_uri": "https://localhost:8080/"
        },
        "id": "uO-dWcKM7Gf8",
        "outputId": "a54b925d-dba7-470c-c0d4-c5a5cbb388f6"
      },
      "outputs": [
        {
          "output_type": "stream",
          "name": "stdout",
          "text": [
            "Collecting tfIdfInheritVectorizer\n",
            "  Downloading tfIdfInheritVectorizer-0.1.tar.gz (4.5 kB)\n",
            "  Preparing metadata (setup.py) ... \u001b[?25l\u001b[?25hdone\n",
            "Requirement already satisfied: numpy in /usr/local/lib/python3.10/dist-packages (from tfIdfInheritVectorizer) (1.25.2)\n",
            "Requirement already satisfied: scikit-learn in /usr/local/lib/python3.10/dist-packages (from tfIdfInheritVectorizer) (1.2.2)\n",
            "Requirement already satisfied: scipy>=1.3.2 in /usr/local/lib/python3.10/dist-packages (from scikit-learn->tfIdfInheritVectorizer) (1.11.4)\n",
            "Requirement already satisfied: joblib>=1.1.1 in /usr/local/lib/python3.10/dist-packages (from scikit-learn->tfIdfInheritVectorizer) (1.4.0)\n",
            "Requirement already satisfied: threadpoolctl>=2.0.0 in /usr/local/lib/python3.10/dist-packages (from scikit-learn->tfIdfInheritVectorizer) (3.5.0)\n",
            "Building wheels for collected packages: tfIdfInheritVectorizer\n",
            "  Building wheel for tfIdfInheritVectorizer (setup.py) ... \u001b[?25l\u001b[?25hdone\n",
            "  Created wheel for tfIdfInheritVectorizer: filename=tfIdfInheritVectorizer-0.1-py3-none-any.whl size=5445 sha256=a25b02cb69e91e572a941bc575296dc0040d28e7c800f4d2c04e7b15a65a3dc5\n",
            "  Stored in directory: /root/.cache/pip/wheels/08/c6/7c/ebca9cd502a98191beb4c5fcc6b8596c246e6a62dffd635f16\n",
            "Successfully built tfIdfInheritVectorizer\n",
            "Installing collected packages: tfIdfInheritVectorizer\n",
            "Successfully installed tfIdfInheritVectorizer-0.1\n"
          ]
        }
      ],
      "source": [
        "!pip install tfIdfInheritVectorizer"
      ]
    },
    {
      "cell_type": "code",
      "source": [
        "!pip install imbalanced-learn"
      ],
      "metadata": {
        "colab": {
          "base_uri": "https://localhost:8080/"
        },
        "id": "JHR-kwX69mmp",
        "outputId": "9844d500-6e59-4967-cd36-8be945053633"
      },
      "execution_count": null,
      "outputs": [
        {
          "output_type": "stream",
          "name": "stdout",
          "text": [
            "Requirement already satisfied: imbalanced-learn in /usr/local/lib/python3.10/dist-packages (0.10.1)\n",
            "Requirement already satisfied: numpy>=1.17.3 in /usr/local/lib/python3.10/dist-packages (from imbalanced-learn) (1.25.2)\n",
            "Requirement already satisfied: scipy>=1.3.2 in /usr/local/lib/python3.10/dist-packages (from imbalanced-learn) (1.11.4)\n",
            "Requirement already satisfied: scikit-learn>=1.0.2 in /usr/local/lib/python3.10/dist-packages (from imbalanced-learn) (1.2.2)\n",
            "Requirement already satisfied: joblib>=1.1.1 in /usr/local/lib/python3.10/dist-packages (from imbalanced-learn) (1.4.0)\n",
            "Requirement already satisfied: threadpoolctl>=2.0.0 in /usr/local/lib/python3.10/dist-packages (from imbalanced-learn) (3.5.0)\n"
          ]
        }
      ]
    },
    {
      "cell_type": "code",
      "execution_count": null,
      "metadata": {
        "colab": {
          "base_uri": "https://localhost:8080/"
        },
        "id": "CfONvyNtPD84",
        "outputId": "01fbd23d-0915-4869-aad6-095dd8ca5d5e"
      },
      "outputs": [
        {
          "output_type": "stream",
          "name": "stderr",
          "text": [
            "[nltk_data] Downloading package punkt to /root/nltk_data...\n",
            "[nltk_data]   Unzipping tokenizers/punkt.zip.\n",
            "[nltk_data] Downloading package stopwords to /root/nltk_data...\n",
            "[nltk_data]   Unzipping corpora/stopwords.zip.\n",
            "[nltk_data] Downloading package wordnet to /root/nltk_data...\n",
            "[nltk_data] Downloading package averaged_perceptron_tagger to\n",
            "[nltk_data]     /root/nltk_data...\n",
            "[nltk_data]   Unzipping taggers/averaged_perceptron_tagger.zip.\n"
          ]
        },
        {
          "output_type": "execute_result",
          "data": {
            "text/plain": [
              "True"
            ]
          },
          "metadata": {},
          "execution_count": 5
        }
      ],
      "source": [
        "import pandas as pd\n",
        "import numpy as np\n",
        "import re\n",
        "import seaborn as sns\n",
        "import matplotlib.pyplot as plt\n",
        "import nltk\n",
        "\n",
        "from nltk.corpus import stopwords\n",
        "from nltk.tokenize import word_tokenize\n",
        "from nltk.corpus import wordnet\n",
        "from nltk.stem import WordNetLemmatizer\n",
        "from sklearn.feature_extraction.text import TfidfVectorizer\n",
        "from sklearn.cluster import KMeans\n",
        "from sklearn.model_selection import train_test_split\n",
        "from imblearn.under_sampling import RandomUnderSampler\n",
        "from imblearn.over_sampling import RandomOverSampler\n",
        "from imblearn.over_sampling import SMOTE\n",
        "from imblearn.metrics import classification_report_imbalanced\n",
        "from sklearn.feature_selection import SelectKBest, chi2\n",
        "from sklearn.model_selection import train_test_split\n",
        "from sklearn.svm import SVC\n",
        "from sklearn.tree import DecisionTreeClassifier\n",
        "from sklearn.metrics import accuracy_score, classification_report, confusion_matrix\n",
        "from sklearn.model_selection import GridSearchCV\n",
        "from sklearn.ensemble import VotingClassifier\n",
        "from sklearn.model_selection import KFold\n",
        "from sklearn.model_selection import cross_val_score\n",
        "\n",
        "nltk.download('punkt')\n",
        "nltk.download('stopwords')\n",
        "nltk.download('wordnet')\n",
        "nltk.download('averaged_perceptron_tagger')\n"
      ]
    },
    {
      "cell_type": "markdown",
      "source": [
        "# Dataset"
      ],
      "metadata": {
        "id": "EvxZ2lDmrfHr"
      }
    },
    {
      "cell_type": "code",
      "execution_count": null,
      "metadata": {
        "id": "q3owZqfL4ibd"
      },
      "outputs": [],
      "source": [
        "#Load Lbeled Dataset\n",
        "df = pd.read_excel('/content/drive/MyDrive/THESIS/Dataset/Labeled_Dataset1.xlsx')"
      ]
    },
    {
      "cell_type": "code",
      "execution_count": null,
      "metadata": {
        "colab": {
          "base_uri": "https://localhost:8080/"
        },
        "id": "0BehJMds5rDG",
        "outputId": "b7115a2a-9c41-44bb-b086-e04bcbbf2bb3"
      },
      "outputs": [
        {
          "output_type": "execute_result",
          "data": {
            "text/plain": [
              "                                                Comments    Label\n",
              "10496                jusme mga question halatang dilawan    anger\n",
              "10497  tatawa lang ako kapag paninira kay leni kinoko...    anger\n",
              "10498  nangongopya lang ng sagot si perdi makoy. yan ...    anger\n",
              "10499  marcos - production at building nation\\n -----...    anger\n",
              "10500       si bbm parang nangongopya lang ng sagot haha    anger\n",
              "10501  leni lugaw\\n leni lugaw\\n leni lugaw\\n leni lugaw    anger\n",
              "10502  leni niyong hindi daw pangarap tumakbong presi...    anger\n",
              "10503  hahah bbm talaga natin palabiro.,green card sa...    anger\n",
              "10504  ang bilis ng sagot ni leni na no as president ...      joy\n",
              "10505  oh nakita niyo ha walang plano si leni tumakbo...    anger\n",
              "10506  naawa ako kay bbm dto. pinagtulungan ng mga ha...  sadness\n",
              "10507  una una talaga si leni ie no?! hahaha bida bid...    anger\n",
              "10508                      baka mamatay silang lahat jan    anger\n",
              "10509  napaka sama ng ugali ng mga to, ilocano si mar...    anger\n",
              "10510  gigil parin ako sa debate na to, kht wala nama...    anger\n",
              "10511  pink ang ribbon pero nakadilaw????!!!!! potaen...    anger\n",
              "10512             leni nyo tingin muna iba bago magsagot    anger\n",
              "10513            leni gaya-gaya crush ata neto si marcos    anger\n",
              "10514                             nagsinungaling pa leni    anger\n",
              "10515  let lenilead! nangongopya lang naman sa mga ka...    anger"
            ],
            "text/html": [
              "\n",
              "  <div id=\"df-9f272ae8-5598-406d-b0d8-29ac5d80817e\" class=\"colab-df-container\">\n",
              "    <div>\n",
              "<style scoped>\n",
              "    .dataframe tbody tr th:only-of-type {\n",
              "        vertical-align: middle;\n",
              "    }\n",
              "\n",
              "    .dataframe tbody tr th {\n",
              "        vertical-align: top;\n",
              "    }\n",
              "\n",
              "    .dataframe thead th {\n",
              "        text-align: right;\n",
              "    }\n",
              "</style>\n",
              "<table border=\"1\" class=\"dataframe\">\n",
              "  <thead>\n",
              "    <tr style=\"text-align: right;\">\n",
              "      <th></th>\n",
              "      <th>Comments</th>\n",
              "      <th>Label</th>\n",
              "    </tr>\n",
              "  </thead>\n",
              "  <tbody>\n",
              "    <tr>\n",
              "      <th>10496</th>\n",
              "      <td>jusme mga question halatang dilawan</td>\n",
              "      <td>anger</td>\n",
              "    </tr>\n",
              "    <tr>\n",
              "      <th>10497</th>\n",
              "      <td>tatawa lang ako kapag paninira kay leni kinoko...</td>\n",
              "      <td>anger</td>\n",
              "    </tr>\n",
              "    <tr>\n",
              "      <th>10498</th>\n",
              "      <td>nangongopya lang ng sagot si perdi makoy. yan ...</td>\n",
              "      <td>anger</td>\n",
              "    </tr>\n",
              "    <tr>\n",
              "      <th>10499</th>\n",
              "      <td>marcos - production at building nation\\n -----...</td>\n",
              "      <td>anger</td>\n",
              "    </tr>\n",
              "    <tr>\n",
              "      <th>10500</th>\n",
              "      <td>si bbm parang nangongopya lang ng sagot haha</td>\n",
              "      <td>anger</td>\n",
              "    </tr>\n",
              "    <tr>\n",
              "      <th>10501</th>\n",
              "      <td>leni lugaw\\n leni lugaw\\n leni lugaw\\n leni lugaw</td>\n",
              "      <td>anger</td>\n",
              "    </tr>\n",
              "    <tr>\n",
              "      <th>10502</th>\n",
              "      <td>leni niyong hindi daw pangarap tumakbong presi...</td>\n",
              "      <td>anger</td>\n",
              "    </tr>\n",
              "    <tr>\n",
              "      <th>10503</th>\n",
              "      <td>hahah bbm talaga natin palabiro.,green card sa...</td>\n",
              "      <td>anger</td>\n",
              "    </tr>\n",
              "    <tr>\n",
              "      <th>10504</th>\n",
              "      <td>ang bilis ng sagot ni leni na no as president ...</td>\n",
              "      <td>joy</td>\n",
              "    </tr>\n",
              "    <tr>\n",
              "      <th>10505</th>\n",
              "      <td>oh nakita niyo ha walang plano si leni tumakbo...</td>\n",
              "      <td>anger</td>\n",
              "    </tr>\n",
              "    <tr>\n",
              "      <th>10506</th>\n",
              "      <td>naawa ako kay bbm dto. pinagtulungan ng mga ha...</td>\n",
              "      <td>sadness</td>\n",
              "    </tr>\n",
              "    <tr>\n",
              "      <th>10507</th>\n",
              "      <td>una una talaga si leni ie no?! hahaha bida bid...</td>\n",
              "      <td>anger</td>\n",
              "    </tr>\n",
              "    <tr>\n",
              "      <th>10508</th>\n",
              "      <td>baka mamatay silang lahat jan</td>\n",
              "      <td>anger</td>\n",
              "    </tr>\n",
              "    <tr>\n",
              "      <th>10509</th>\n",
              "      <td>napaka sama ng ugali ng mga to, ilocano si mar...</td>\n",
              "      <td>anger</td>\n",
              "    </tr>\n",
              "    <tr>\n",
              "      <th>10510</th>\n",
              "      <td>gigil parin ako sa debate na to, kht wala nama...</td>\n",
              "      <td>anger</td>\n",
              "    </tr>\n",
              "    <tr>\n",
              "      <th>10511</th>\n",
              "      <td>pink ang ribbon pero nakadilaw????!!!!! potaen...</td>\n",
              "      <td>anger</td>\n",
              "    </tr>\n",
              "    <tr>\n",
              "      <th>10512</th>\n",
              "      <td>leni nyo tingin muna iba bago magsagot</td>\n",
              "      <td>anger</td>\n",
              "    </tr>\n",
              "    <tr>\n",
              "      <th>10513</th>\n",
              "      <td>leni gaya-gaya crush ata neto si marcos</td>\n",
              "      <td>anger</td>\n",
              "    </tr>\n",
              "    <tr>\n",
              "      <th>10514</th>\n",
              "      <td>nagsinungaling pa leni</td>\n",
              "      <td>anger</td>\n",
              "    </tr>\n",
              "    <tr>\n",
              "      <th>10515</th>\n",
              "      <td>let lenilead! nangongopya lang naman sa mga ka...</td>\n",
              "      <td>anger</td>\n",
              "    </tr>\n",
              "  </tbody>\n",
              "</table>\n",
              "</div>\n",
              "    <div class=\"colab-df-buttons\">\n",
              "\n",
              "  <div class=\"colab-df-container\">\n",
              "    <button class=\"colab-df-convert\" onclick=\"convertToInteractive('df-9f272ae8-5598-406d-b0d8-29ac5d80817e')\"\n",
              "            title=\"Convert this dataframe to an interactive table.\"\n",
              "            style=\"display:none;\">\n",
              "\n",
              "  <svg xmlns=\"http://www.w3.org/2000/svg\" height=\"24px\" viewBox=\"0 -960 960 960\">\n",
              "    <path d=\"M120-120v-720h720v720H120Zm60-500h600v-160H180v160Zm220 220h160v-160H400v160Zm0 220h160v-160H400v160ZM180-400h160v-160H180v160Zm440 0h160v-160H620v160ZM180-180h160v-160H180v160Zm440 0h160v-160H620v160Z\"/>\n",
              "  </svg>\n",
              "    </button>\n",
              "\n",
              "  <style>\n",
              "    .colab-df-container {\n",
              "      display:flex;\n",
              "      gap: 12px;\n",
              "    }\n",
              "\n",
              "    .colab-df-convert {\n",
              "      background-color: #E8F0FE;\n",
              "      border: none;\n",
              "      border-radius: 50%;\n",
              "      cursor: pointer;\n",
              "      display: none;\n",
              "      fill: #1967D2;\n",
              "      height: 32px;\n",
              "      padding: 0 0 0 0;\n",
              "      width: 32px;\n",
              "    }\n",
              "\n",
              "    .colab-df-convert:hover {\n",
              "      background-color: #E2EBFA;\n",
              "      box-shadow: 0px 1px 2px rgba(60, 64, 67, 0.3), 0px 1px 3px 1px rgba(60, 64, 67, 0.15);\n",
              "      fill: #174EA6;\n",
              "    }\n",
              "\n",
              "    .colab-df-buttons div {\n",
              "      margin-bottom: 4px;\n",
              "    }\n",
              "\n",
              "    [theme=dark] .colab-df-convert {\n",
              "      background-color: #3B4455;\n",
              "      fill: #D2E3FC;\n",
              "    }\n",
              "\n",
              "    [theme=dark] .colab-df-convert:hover {\n",
              "      background-color: #434B5C;\n",
              "      box-shadow: 0px 1px 3px 1px rgba(0, 0, 0, 0.15);\n",
              "      filter: drop-shadow(0px 1px 2px rgba(0, 0, 0, 0.3));\n",
              "      fill: #FFFFFF;\n",
              "    }\n",
              "  </style>\n",
              "\n",
              "    <script>\n",
              "      const buttonEl =\n",
              "        document.querySelector('#df-9f272ae8-5598-406d-b0d8-29ac5d80817e button.colab-df-convert');\n",
              "      buttonEl.style.display =\n",
              "        google.colab.kernel.accessAllowed ? 'block' : 'none';\n",
              "\n",
              "      async function convertToInteractive(key) {\n",
              "        const element = document.querySelector('#df-9f272ae8-5598-406d-b0d8-29ac5d80817e');\n",
              "        const dataTable =\n",
              "          await google.colab.kernel.invokeFunction('convertToInteractive',\n",
              "                                                    [key], {});\n",
              "        if (!dataTable) return;\n",
              "\n",
              "        const docLinkHtml = 'Like what you see? Visit the ' +\n",
              "          '<a target=\"_blank\" href=https://colab.research.google.com/notebooks/data_table.ipynb>data table notebook</a>'\n",
              "          + ' to learn more about interactive tables.';\n",
              "        element.innerHTML = '';\n",
              "        dataTable['output_type'] = 'display_data';\n",
              "        await google.colab.output.renderOutput(dataTable, element);\n",
              "        const docLink = document.createElement('div');\n",
              "        docLink.innerHTML = docLinkHtml;\n",
              "        element.appendChild(docLink);\n",
              "      }\n",
              "    </script>\n",
              "  </div>\n",
              "\n",
              "\n",
              "<div id=\"df-a98f02f2-d2de-4c6a-b5ce-0bd548425549\">\n",
              "  <button class=\"colab-df-quickchart\" onclick=\"quickchart('df-a98f02f2-d2de-4c6a-b5ce-0bd548425549')\"\n",
              "            title=\"Suggest charts\"\n",
              "            style=\"display:none;\">\n",
              "\n",
              "<svg xmlns=\"http://www.w3.org/2000/svg\" height=\"24px\"viewBox=\"0 0 24 24\"\n",
              "     width=\"24px\">\n",
              "    <g>\n",
              "        <path d=\"M19 3H5c-1.1 0-2 .9-2 2v14c0 1.1.9 2 2 2h14c1.1 0 2-.9 2-2V5c0-1.1-.9-2-2-2zM9 17H7v-7h2v7zm4 0h-2V7h2v10zm4 0h-2v-4h2v4z\"/>\n",
              "    </g>\n",
              "</svg>\n",
              "  </button>\n",
              "\n",
              "<style>\n",
              "  .colab-df-quickchart {\n",
              "      --bg-color: #E8F0FE;\n",
              "      --fill-color: #1967D2;\n",
              "      --hover-bg-color: #E2EBFA;\n",
              "      --hover-fill-color: #174EA6;\n",
              "      --disabled-fill-color: #AAA;\n",
              "      --disabled-bg-color: #DDD;\n",
              "  }\n",
              "\n",
              "  [theme=dark] .colab-df-quickchart {\n",
              "      --bg-color: #3B4455;\n",
              "      --fill-color: #D2E3FC;\n",
              "      --hover-bg-color: #434B5C;\n",
              "      --hover-fill-color: #FFFFFF;\n",
              "      --disabled-bg-color: #3B4455;\n",
              "      --disabled-fill-color: #666;\n",
              "  }\n",
              "\n",
              "  .colab-df-quickchart {\n",
              "    background-color: var(--bg-color);\n",
              "    border: none;\n",
              "    border-radius: 50%;\n",
              "    cursor: pointer;\n",
              "    display: none;\n",
              "    fill: var(--fill-color);\n",
              "    height: 32px;\n",
              "    padding: 0;\n",
              "    width: 32px;\n",
              "  }\n",
              "\n",
              "  .colab-df-quickchart:hover {\n",
              "    background-color: var(--hover-bg-color);\n",
              "    box-shadow: 0 1px 2px rgba(60, 64, 67, 0.3), 0 1px 3px 1px rgba(60, 64, 67, 0.15);\n",
              "    fill: var(--button-hover-fill-color);\n",
              "  }\n",
              "\n",
              "  .colab-df-quickchart-complete:disabled,\n",
              "  .colab-df-quickchart-complete:disabled:hover {\n",
              "    background-color: var(--disabled-bg-color);\n",
              "    fill: var(--disabled-fill-color);\n",
              "    box-shadow: none;\n",
              "  }\n",
              "\n",
              "  .colab-df-spinner {\n",
              "    border: 2px solid var(--fill-color);\n",
              "    border-color: transparent;\n",
              "    border-bottom-color: var(--fill-color);\n",
              "    animation:\n",
              "      spin 1s steps(1) infinite;\n",
              "  }\n",
              "\n",
              "  @keyframes spin {\n",
              "    0% {\n",
              "      border-color: transparent;\n",
              "      border-bottom-color: var(--fill-color);\n",
              "      border-left-color: var(--fill-color);\n",
              "    }\n",
              "    20% {\n",
              "      border-color: transparent;\n",
              "      border-left-color: var(--fill-color);\n",
              "      border-top-color: var(--fill-color);\n",
              "    }\n",
              "    30% {\n",
              "      border-color: transparent;\n",
              "      border-left-color: var(--fill-color);\n",
              "      border-top-color: var(--fill-color);\n",
              "      border-right-color: var(--fill-color);\n",
              "    }\n",
              "    40% {\n",
              "      border-color: transparent;\n",
              "      border-right-color: var(--fill-color);\n",
              "      border-top-color: var(--fill-color);\n",
              "    }\n",
              "    60% {\n",
              "      border-color: transparent;\n",
              "      border-right-color: var(--fill-color);\n",
              "    }\n",
              "    80% {\n",
              "      border-color: transparent;\n",
              "      border-right-color: var(--fill-color);\n",
              "      border-bottom-color: var(--fill-color);\n",
              "    }\n",
              "    90% {\n",
              "      border-color: transparent;\n",
              "      border-bottom-color: var(--fill-color);\n",
              "    }\n",
              "  }\n",
              "</style>\n",
              "\n",
              "  <script>\n",
              "    async function quickchart(key) {\n",
              "      const quickchartButtonEl =\n",
              "        document.querySelector('#' + key + ' button');\n",
              "      quickchartButtonEl.disabled = true;  // To prevent multiple clicks.\n",
              "      quickchartButtonEl.classList.add('colab-df-spinner');\n",
              "      try {\n",
              "        const charts = await google.colab.kernel.invokeFunction(\n",
              "            'suggestCharts', [key], {});\n",
              "      } catch (error) {\n",
              "        console.error('Error during call to suggestCharts:', error);\n",
              "      }\n",
              "      quickchartButtonEl.classList.remove('colab-df-spinner');\n",
              "      quickchartButtonEl.classList.add('colab-df-quickchart-complete');\n",
              "    }\n",
              "    (() => {\n",
              "      let quickchartButtonEl =\n",
              "        document.querySelector('#df-a98f02f2-d2de-4c6a-b5ce-0bd548425549 button');\n",
              "      quickchartButtonEl.style.display =\n",
              "        google.colab.kernel.accessAllowed ? 'block' : 'none';\n",
              "    })();\n",
              "  </script>\n",
              "</div>\n",
              "    </div>\n",
              "  </div>\n"
            ],
            "application/vnd.google.colaboratory.intrinsic+json": {
              "type": "dataframe",
              "summary": "{\n  \"name\": \"df\",\n  \"rows\": 20,\n  \"fields\": [\n    {\n      \"column\": \"Comments\",\n      \"properties\": {\n        \"dtype\": \"string\",\n        \"num_unique_values\": 20,\n        \"samples\": [\n          \"jusme mga question halatang dilawan\",\n          \"leni gaya-gaya crush ata neto si marcos\",\n          \"pink ang ribbon pero nakadilaw????!!!!! potaena leni! anuna?!!!!\"\n        ],\n        \"semantic_type\": \"\",\n        \"description\": \"\"\n      }\n    },\n    {\n      \"column\": \"Label\",\n      \"properties\": {\n        \"dtype\": \"category\",\n        \"num_unique_values\": 3,\n        \"samples\": [\n          \"anger\",\n          \"joy\",\n          \"sadness\"\n        ],\n        \"semantic_type\": \"\",\n        \"description\": \"\"\n      }\n    }\n  ]\n}"
            }
          },
          "metadata": {},
          "execution_count": 7
        }
      ],
      "source": [
        "df.tail(20)"
      ]
    },
    {
      "cell_type": "code",
      "source": [
        "# Count the number of comments for each emotion label\n",
        "emotion_counts = df['Label'].value_counts()\n",
        "\n",
        "# Define a list of colors\n",
        "color_list = ['yellow', 'blue', 'red', 'darkorchid']\n",
        "\n",
        "# Create a bar graph\n",
        "plt.bar(emotion_counts.index, emotion_counts.values, color=color_list)\n",
        "plt.xlabel('Emotions')\n",
        "plt.ylabel('Text')\n",
        "plt.title('Emotion Distribution')\n",
        "\n",
        "# Add value labels on each bar\n",
        "for i, v in enumerate(emotion_counts.values):\n",
        "    plt.text(i, v/2, str(v), ha='center')\n",
        "\n",
        "plt.show()"
      ],
      "metadata": {
        "colab": {
          "base_uri": "https://localhost:8080/"
        },
        "id": "9y6fKiXPo5cF",
        "outputId": "6b13e0c1-0cac-4282-d229-2401934f0c51"
      },
      "execution_count": null,
      "outputs": [
        {
          "output_type": "display_data",
          "data": {
            "text/plain": [
              "<Figure size 640x480 with 1 Axes>"
            ],
            "image/png": "[encoded data removed]"
          },
          "metadata": {}
        }
      ]
    },
    {
      "cell_type": "markdown",
      "source": [
        "# Data Pre-processing"
      ],
      "metadata": {
        "id": "oe_WqIcHroff"
      }
    },
    {
      "cell_type": "code",
      "execution_count": null,
      "metadata": {
        "colab": {
          "base_uri": "https://localhost:8080/"
        },
        "id": "WlfcOLW25z-6",
        "outputId": "8ea50120-18fc-4464-f198-d93d6582bcec"
      },
      "outputs": [
        {
          "output_type": "stream",
          "name": "stdout",
          "text": [
            "0                             [inggit, lang, nararamdaman]\n",
            "1                   [educ, ay, para, sa, engineering, ...]\n",
            "2        [bat, kasi, walang, engineering, department, s...\n",
            "3             [nasa, engineering, talaga, ang, true, love]\n",
            "4        [pero, sana, mas, madaming, post, po, para, al...\n",
            "                               ...                        \n",
            "10511    [pink, ang, ribbon, pero, nakadilaw, ?, ?, ?, ...\n",
            "10512       [leni, nyo, tingin, muna, iba, bago, magsagot]\n",
            "10513      [leni, gaya-gaya, crush, ata, neto, si, marcos]\n",
            "10514                           [nagsinungaling, pa, leni]\n",
            "10515    [let, lenilead, !, nangongopya, lang, naman, s...\n",
            "Name: tokenized_column, Length: 10516, dtype: object\n"
          ]
        }
      ],
      "source": [
        "#TOKENIZATION\n",
        "#LOWERCASING\n",
        "#EXPAND ABBREVIATIONS, ACRONYMS, SLANG\n",
        "\n",
        "# Define the dictionary of common abbreviations, acronyms, and english slangs.\n",
        "word_list = {\n",
        "         \"afaik\": \"as far as i know\",\"ama\": \"ask me anything\",\"api\": \"application programming interface\",\"asl\": \"age, sex, location\",\"asmr\": \"autonomous sensory meridian response\",\"atm\": \"at the moment\",\n",
        "         \"atp\": \"at this point\",\"b2b\": \"business-to-business\",\"b2c\": \"business-to-consumer\",\"brb\": \"be right back\",\"bae\": \"before anyone else\",\"bff\": \"best friends forever\",\"bsaaw\": \"but seriously as a wolf\",\n",
        "         \"btaim\": \"by the way as i mentioned\",\"bts\": \"behind the scenes\",\"btw\": \"by the way\",\"cc\": \"carbon copy\",\"cms\": \"content management system\",\"cmv\": \"change my view\",\"cpc\": \"cost-per-click\",\"cpm\": \"cost-per-mille\",\n",
        "         \"cr\": \"conversion rate\",\"crm\": \"customer relationship management\",\"cro\": \"conversion rate optimization\",\"css\": \"cascading style sheets\",\"cta\": \"call-to-action\",\"ctr\": \"click-through rate\",\"cx\": \"customer experience\",\n",
        "         \"d2e\": \"does anyone else\",\"dae\": \"does anyone else\",\"dftba\": \"don't forget to be awesome\",\"dm\": \"direct message\",\"dyk\": \"do you know\",\"eli5\": \"explain like i'm five\",\"esp\": \"email service provider\",\"f2f\": \"face-to-face\",\n",
        "         \"fath\": \"forever and to have\",\"fb\": \"facebook\",\"fbf\": \"flashback friday\",\"fbo\": \"facebook official\",\"ff\": \"follow friday\",\"fomo\": \"fear of missing out\",\"frfr\": \"for real for real\",\"ftfy\": \"fixed that for you\",\n",
        "         \"ftw\": \"for the win\",\"futab\": \"for you, that's awesome\",\"fyi\": \"for your information\",\"g2g\": \"got to go\",\"ga\": \"google analytics\",\"gg\": \"good game\",\"gif\": \"graphics interchange format\",\"gmta\": \"great minds think alike\",\n",
        "         \"goat\": \"greatest of all time\",\"goat\": \"greatest of all time\",\"gr8\": \"great\",\"grwm\": \"get ready with me\",\"gtg\": \"good to go\",\"gtr\": \"got to run\",\"hbd\": \"happy birthday\",\"hmb\": \"hit me back\",\"hmu\": \"hit me up\",\n",
        "         \"hth\": \"here to help\", \"icymi\": \"in case you missed it\",\"idc\": \"i don't care\",\"idk\": \"i don't know\",\"ig\": \"instagram\",\"ikr\": \"i know, right?\",\"ily\": \"i love you\",\"im\": \"instant message\",\"imho\": \"in my honest opinion\",\"imo\":\n",
        "         \"in my opinion\",\"irl\": \"in real life\",\"jk\": \"just kidding\",\"li\": \"linkedin\",\"lmao\": \"laughing my ass off\",\"lmk\": \"let me know\",\"lms\": \"like my status\",\"lol\": \"laugh out loud\",\"msg\": \"message\",\"mcm\": \"man crush monday\",\n",
        "         \"nsfw\": \"not safe for work\",\"nvm\": \"nevermind\",\"obv\": \"obviously\",\"omg\": \"oh my god\", \"omw\": \"on my way\",\"ootd\": \"outfit of the day\",\"op\": \"original poster\",\"pm\": \"private message\",\"pov\": \"point of view\",\"rt\": \"retweet\",\n",
        "         \"sk8\": \"sakit\",\"smh\": \"shaking my head\",\"tbh\": \"to be honest\",\"u\": \"you\",\"vc\": \"video call\",\"wcw\": \"woman crush wednesday\",\"wtf\": \"what the fuck\", \"yb\": \"you bet\",\"ymmv\": \"your mileage may vary\",\"yolo\": \"you only live once\",\n",
        "         \"ysk\": \"you should know\",\"yt\": \"youtube\",\"z\": \"zoom\", \"bsu\": \"batangas state university\",\"tneu\": \"the national engineering university\",\"arasof\": \"apacible school of fisheries\",\"coe\": \"college of engineering\",\n",
        "         \"cics\": \"college of information and computer sciences\", \"cas\": \"college of arts and sciences\",\"cbm\": \"college of business and management\",\"ceat\": \"college of engineering and agro-industrial technology\",\n",
        "         \"cdc\": \"college of development communication\", \"cfa\": \"college of fine arts\",\"cfs\": \"college of forestry and natural resources\",\"che\": \"college of home economics\",\"cvm\": \"college of veterinary medicine\",\n",
        "         \"cba\": \"college of business administration\",\"cssp\": \"college of social sciences and philosophy\",\"cmc\": \"college of mass communication\",\"chk\": \"college of human kinetics\",\"cp\": \"college of pharmacy\",\"css\": \"college of social sciences\",\n",
        "         \"cte\": \"college of teacher education\",\"cthm\": \"college of tourism and hospitality management\",\"cpaf\": \"college of public affairs and development\",\"cswcd\": \"college of social work and community development\",\n",
        "         \"ncpag\": \"national college of public administration and governance\",\"cs\": \"computer science\",\"cpe\": \"computer engineering\",\"ee\": \"electrical engineering\",\"me\": \"mechanical engineering\",\"ce\": \"civil engineering\",\n",
        "         \"se\": \"software engineering\",\"it\": \"information technology\",\"cm\": \"communication\",\"eco\": \"economics\",\"psy\": \"psychology\",\"bio\": \"biology\",\"chem\": \"chemistry\",\"phy\": \"physics\",\"mat\": \"mathematics\",\"eng\": \"english\",\n",
        "         \"phi\": \"philosophy\",\"soc\": \"sociology\",\"geo\": \"geography\",\"polsci\": \"political science\",\"envsci\": \"environmental science\",\"nurs\": \"nursing\",\"medtech\": \"medical technology\",\"archi\": \"architecture\",\"acct\": \"accountancy\",\n",
        "         \"fin\": \"finance\",\"mktg\": \"marketing\",\"hrm\": \"hotel and restaurant management\",\"comm\": \"communication\",\"journ\": \"journalism\",\"edu\": \"education\",\"pe\": \"physical education\",\n",
        "#Tagalog Slangs(Jejemon, Backward Slang, Gay Slang)\n",
        "         \"astig\": \"tigas\",\"atik\": \"kita\",\"abnoy\": \"abnormal\",\"aders\": \"others\",\"adidas\": \"chicken feet\",\"agimat\": \"anting:anting\",\"alat\": \"malas\",\"alembong\": \"malandi\",\"altanghap\": \"almusal tanghalian at hapunan\",\"ampaw\": \"angpao\",\"arbor\": \"hingi\",\n",
        "         \"asungot\": \"buwisit\",\"awit\": \"ouch sakit\",\"awts gege\": \"ouch sige\",\"afam\": \"foreigner\",\"anda\": \"pera\",\"anek\": \"ano\",\"amp\": \"amputa\",\"babu\": \"bye bye\",\"badtrip\": \"bad mood\",\"baduy\": \"pangit\",\"bahala na si batman\": \"bahala na\",\n",
        "        \"bahaw\": \"kaning:lamig\",\"balahura\": \"salaula\",\"bano\": \"abno\",\"bardagol\": \"taksil\",\"barok\": \"baluktot\",\"basted\": \"tinanggihan\",\"batak\": \"hila\",\"batingting\": \"batingaw\",\"bato\": \"pambato\",\"batsoy\": \"tabatsoy\",\"bayagra\": \"viagra\",\n",
        "        \"bebot\": \"babae\",\"betlog\": \"itlog\",\"bi\": \"bad influence\",\"biniboy\": \"binabae\",\"bobotante\": \"bobong botante\",\"bokya\": \"talo\",\"boldyak\": \"kalbo\",\"bonak\": \"bobo\",\"botyog\": \"mataba\",\"brotsa\": \"cunnilingus\",\"budol\": \"loko\",\n",
        "        \"bulihala\": \"pamamahala\",\"bumatak\": \"humatak\",\"burat\": \"titi\",\"burnik\": \"buhok sa puwit\",\"buryong\": \"bored\",\"buwakaw\": \"buwaya nakaw\",\"buwaya\": \"kurakot\",\"badap\": \"bakla\",\"balur\": \"bahay\",\"beki\": \"bakla\",\"bes\": \"bestfriend\",\n",
        "        \"beshie\": \"bestfriend\",\"bongga\": \"marangya\",\"borbeg\": \"tubig\",\"borlog\": \"tulog\",\"bottomesa\": \"bottom\",\"buryong\": \"bagot\",\"bkt\": \"bakit\",\"charing\": \"joke\",\"charot\": \"joke\",\"charotera\": \"sinungaling\",\"chedeng\": \"mercedes-benz car\",\n",
        "        \"chub\": \"taob\",\"chumaka\": \"pumangit\",\"chaka\": \"pangit\",\"che\": \"tse\",\"c\": \"si\",\"cge\": \"sige\",\"d2\": \"dito\",\"dabarkads\": \"barkada\",\"dehins\": \"hinde, hindi\",\"dyahe\": \"hiya\",\"damo\": \"marijuana\",\"datung\": \"pera\",\"dedbol\": \"patay\",\n",
        "        \"dedma\": \"patay malisya\",\"deds\": \"patay\",\"dekwat\": \"nakaw\",\"dekwatin\": \"nakawin\",\"denggoy\": \"loko\",\"denggoyin\": \"lokohin\",\"dikdik:bawang\": \"salsal\",\"dorobo\": \"magnanakaw\",\"dugas\": \"daya\",\"dyologin\": \"biruin\",\"dyologs\": \"baduy\",\n",
        "        \"dyumologs\": \"bumaduy\",\"dakota\": \"malaking titi\",\"daks\": \"malaking titi\",\"d\": \"di\",\"dyan\": \"diyan\",\"elib\": \"bilib\",\"elibs\": \"bilib\",\"engot\": \"tanga\",\"ermat\": \"inay\",\"erpat\": \"itay\",\"etivac\": \"cavite\",\n",
        "        \"etneb\": \"bente\",\"ebak\": \"tae\",\"ebas\": \"sabe, sabi\",\"echas\": \"tae\",\"ekek\": \"kiyeme, biro\",\"epal\": \"papansin\",\"ergo\": \"puna\",\"exag\": \"eksaherado\",\"echos\": \"joke\",\"echosera\": \"sinungaling\",\"eme\": \"kiyeme\",\"feslak\": \"mukha\",\n",
        "        \"g\": \"game\",\"gagi\": \"gago\",\"gago\": \"tanga\",\"gapo\": \"olongapo\",\"gatas\": \"katas\",\"gege\": \"sige\",\"gets\": \"naiintindihan\",\"gi\": \"good influence\",\"gora\": \"tara\",\"goyo\": \"loko\",\"gradweyt\": \"graduate\",\"guwaping\": \"gwapo\",\"ganern\": \"ganun\",\n",
        "        \"gerlalu\": \"girl\",\"ggss\": \"gandang:ganda sa sarili\",\"hanash\": \"kuda\",\"hataw\": \"bugbog\",\"hatdog\": \"hotdog\",\"hawsyaw\": \"bogus\",\"hay\": \"sigh\",\"hebor\": \"silay\",\"hipon\": \"tapon ulo\",\"hithit\": \"singhot\",\"hokage\": \"ninja\",\"hugot\": \"sentiment\",\n",
        "        \"hanash\": \"kuda\",\"havey\": \"magaling\",\"igop\": \"pogi\",\"indiyan\": \"hindi sinipot\",\"indoy\": \"pangit\",\"intrigera\": \"tsimosa\",\"isoy\": \"yosi\",\"itey\": \"ito\",\"jabol\": \"salsal\",\"jakol\": \"salsal\",\"japorms\": \"maporma\",\"jejemon\": \"jeje\",\n",
        "        \"jowa\": \"kasintahan\",\"juts\": \"maliit\",\"jerjer\": \"sex\",\"joga\": \"dede\",\"jontis\": \"buntis\",\"julalay\": \"alalay\",\"jumbag\": \"bugbog\",\"junakis\": \"anak\",\"jutay\": \"maliit\",\"kachakahan\": \"kapangitan\",\"kakosa\": \"kapwa preso\",\"kaladkarin\": \"maharot\",\n",
        "        \"kalikot\": \"jakol\",\"kano\": \"amerikano\",\"kanto boy\": \"palaboy\",\"kanto girl\": \"palaboy\",\"karantso\": \"kaibigan\",\"katutak\": \"katerba\",\"kelot\": \"lalaki\",\"kikyam\": \"puke\",\"kirey\": \"mapusok\",\"kitakits\": \"see you\",\"kokak\": \"palaka\",\n",
        "        \"kolgeyt\": \"colgate\",\"kring:kring\": \"baliw\",\"krung krung\": \"luka:luka\",\"ksp\": \"kulang sa pansin\",\"kuda\": \"sabi\",\"kukote\": \"utak\",\"kumanta\": \"nagsumbong\",\"kunat\": \"damot\",\"kuwela\": \"masaya\",\"kuwidaw\": \"ingat\",\"kuys\": \"kuya\",\n",
        "        \"keber\": \"pakialam\",\"keri\": \"kaya\",\"k\": \"okay\",\"kau\": \"kayo\",\"kc\": \"kasi\",\"kmi\": \"kami\",\"lespu\": \"pulis\",\"letmaku\": \"makulet, makulit\",\"lodi\": \"idol\",\"lonta\": \"pantalon\",\"ladlad\": \"umamin\",\"lambutsingan\": \"harutan\",\"laptrip\": \"laughtrip\",\n",
        "        \"laspag\": \"disgrasyada\",\"laway conscious\": \"sensitibo\",\"leslie\": \"tomboy\",\"letmaku\": \"makulit\",\"ligwak\": \"tanggal\",\"linggam\": \"extra service\",\"lobat\": \"low battery\",\"losyang\": \"haggard\",\"lss\": \"last song syndrome\",\"luto\": \"daya\",\n",
        "        \"lng\": \"lang\",\"maatik\": \"mapera\",\"mabudol\": \"makumbinsi\",\"mag:espadahan\": \"magsiping\",\"magjakol\": \"mag salsal\",\"magladlad\": \"umamin\",\"magyosi\": \"mag sigarilyo\",\"makunat\": \"madamot\",\"mamasan\": \"madam\",\"manoy\": \"titi\",\"manyakis\": \"bastos\",\n",
        "        \"marcosin\": \"nakawin\",\"mare\": \"kumare\",\"mariang palad\": \"jakol\",\"marites\": \"tsismosa\",\"mars\": \"mare\",\"matik\": \"automatic\",\"meganon\": \"may ganon\",\"mekus:mekus\": \"mix\",\"mema\": \"kuda\",\"mokong\": \"loko loko\",\"momol\": \"make:out\",\n",
        "        \"motmot\": \"motel\",\"mukhasim\": \"maasim\",\"meganon\": \"may ganon\",\"minola\": \"lalaki\",\"momshie\": \"mother\",\"nenok\": \"nakaw\",\"nosi\": \"nosi\",\"noypi\": \"pinoy\",\"ngetpa\": \"panget\",\"naks\": \"wow\",\"nega\": \"ngative\",\"nek:nek mo\": \"putang ina mo\",\n",
        "        \"nognog\": \"maitim\",\"ngek\": \"yikes\",\"n\": \"na\",\"nka\": \"naka\",\"nman\": \"naman\",\"nmn\": \"naman\",\"ngaun\": \"ngayon\",\"oblo\": \"loob\",\"ogag\": \"gago\",\"ogags\" : \"gago\",\"olat\": \"talo\",\"olats\": \"talo\",\"omad\": \"damo\",\"omsim\": \"mismo\",\"oks\": \"okay\",\n",
        "        \"orig\": \"original\",\"ows\": \"weh\",\"okray\": \"lait\",\"petmalu\": \"malupit\",\"peyups\": \"university of the philippines\",\"igop\": \"pogi\",\"pabebe\": \"maarte\",\"pabling\": \"playboy\",\"pagerper\": \"pokpok\",\"pagong\": \"mabagal\",\"pagtripan\": \"paglaruan\",\n",
        "        \"pakboy\": \"fuck boy\",\"pakipot\": \"mahiyain\",\"paldo\": \"mayaman\",\"palito\": \"payat\",\"paminta\": \"bakla\",\"pandak\": \"maliit\",\"parak\": \"pulis\",\"pashnea\": \"hayop\",\"patay kang bata ka\": \"lagot\",\"patok\": \"mabenta\",\"patola\": \"palaaway\",\n",
        "        \"patong\": \"protection money\",\"patutsada\": \"parinig\",\"peg\": \"trip\",\"peksman\": \"mamatay man\",\"petiks\": \"relax\",\"peymus\": \"sikat\",\"pg\": \"patay gutom\",\"pokpok\": \"prostitute\",\"porendyer\": \"foreigner\",\"promdi\": \"taga-bundok\",\"puchu:puchu\": \"basta-basta\",\n",
        "        \"pulpol\": \"tanga\",\"pupo\": \"tae\",\"resbak\": \"backer\",\"rak na itu\": \"rakrakan\",\"rupok\": \"mahina\",\"senglot\": \"lasing\",\"sabaw\": \"wala sa sarili\",\"sabog\": \"nakadroga\",\"saging\": \"titi\",\"saling:ketket\": \"saling pusa\",\"sampid\": \"saling pusa\",\n",
        "        \"sangkatutak\": \"sangkaterba\",\"sibak\": \"tanggal\",\"siga\": \"bully\",\"sigi\": \"sige\",\"sekyu\": \"security guard\",\"sirena\": \"bakla\",\"sisiw\": \"madali\",\"siyano\": \"probinsyano\",\"siyemay\": \"shit\",\"siyota\": \"kasintahan\",\"siyurbol\": \"sure ball\",\n",
        "        \"solb\": \"solve\",\"sosi\": \"sosyal\",\"spakol\": \"parlor\",\"starbs\": \"starbucks\",\"sunog\": \"maitim\",\"suwapang\": \"sakim\",\"shiboli\": \"tomboy\",\"shunga\": \"tanga\",\"shupatid\": \"kapatid\",\"siyoki\": \"bakla\",\"siyokla\": \"bakla\",\"siyokot\": \"takot\",\n",
        "        \"skl\": \"share ko lang\",\"tibak\": \"bakit\",\"tobalats\": \"balato\",\"tomguts\": \"gutom\",\"tsikot\": \"kotse\",\"t:bird\": \"tomboy\",\"talikodgenic\": \"backshot photogenic\",\"talong\": \"titi\",\"tambay\": \"taong bahay\",\"tameme\": \"walang imik\",\n",
        "        \"tanders\": \"matanda\",\"tange\": \"tanga\",\"tangina\": \"putang ina\",\"tarugo\": \"titi\",\"tegi\": \"patay\",\"tepok\": \"patay\",\"tibo\": \"tomboy\",\"tiboom\": \"tomboy\",\"tigang\": \"tuyo\",\"tigidig\": \"taghiyawat\",\"tigok\": \"patay\",\"tiklo\": \"huli\",\n",
        "        \"tililing\": \"sayad\",\"tiririt\": \"huni\",\"tisay\": \"maputing babae\",\"tisoy\": \"maputing lalaki\",\"tobalats\": \"balato\",\"todas\": \"patay\",\"tol\": \"utol\",\"tom jones\": \"gutom\",\"tomguts\": \"gutom\",\"tongpats\": \"patong\",\"torete\": \"in love\",\n",
        "        \"toyo\": \"may tama\",\"trapo\": \"kurakot\",\"trip\": \"gusto\",\"trono\": \"puwesto\",\"tropatuts\": \"tropa\",\"tsa\": \"tsismis\",\"tsang\": \"tiya\",\"tsibog\": \"pagkain\",\"tsika\": \"tsismis\",\"tsikot\": \"kotse\",\"tsipipay\": \"mumurahin\",\"tsitsa\": \"pagkain\",\n",
        "        \"tso\": \"karantso\",\"tsokaran\": \"kaibigan\",\"tsong\": \"tiyo\",\"tsongki\": \"marijuana\",\"tsugi\": \"patay\",\"tsumaka\": \"pumangit\",\"tsumibog\": \"kumain\",\"tulo\": \"gonorrhea\",\"tumoma\": \"tumungga\",\"tyane\": \"madamot\",\"umiskor\": \"pumuntos\",\n",
        "        \"university of recto\": \"pagawaan ng pekeng dokumento\",\"usbing\": \"mamboboso\",\"ust\": \"utang sabay takbo\",\"un\": \"yun\",\"werpa\": \"power\",\"walandyo\": \"walng hiya\",\"walastik\": \"wow\",\"walwal\": \"lasing\",\"weh\": \"oh really\",\"wenggol\": \"barik\",\n",
        "        \"wiwi\": \"ihi\",\"waley\": \"hindi maganda\",\"warla\": \"away\",\"warlahin\": \"awayin\",\"was\": \"wala\",\"watashi\": \"ako\",\"wla\": \"wala\",\"yorme\": \"mayor\",\"yosi\": \"sigarilyo\",\"yagballs\": \"bayag\",\"yansumi\": \"maganda\",\"yantadig\": \"sari:sari store\",\n",
        "        \"yangga\": \"hindot\",\"yangyang\": \"bakla\",\"yapang\": \"mabango\",\"yapo\": \"guwapo\",\"yantaw\": \"pogi\",\"yari\": \"gawa\",\"yasuwi\": \"maganda\",\"yun\": \"ayun\",\"jan\": \"january\",\"feb\": \"february\",\"mar\": \"march\",\"apr\": \"april\",\"may\": \"may\",\"jun\": \"june\",\n",
        "        \"jul\": \"july\",\"aug\": \"august\",\"sep\": \"september\",\"oct\": \"october\",\"nov\": \"november\",\"dec\": \"december\", \"ante\" : \"ate\", \"dep\" : \"department\"\n",
        "         }\n",
        "\n",
        "# Define the function to expand abbreviations\n",
        "def expand_abbreviations(text):\n",
        "    \"\"\"Expand abbreviations in the input text using the abbreviations dictionary.\"\"\"\n",
        "    # Tokenize the text into words\n",
        "    words = word_tokenize(text)\n",
        "    # Create an empty list to store the expanded words\n",
        "    expanded_words = []\n",
        "    # Loop through each word in the tokenized text\n",
        "    for word in words:\n",
        "        # Check if the word is an abbreviation in the dictionary\n",
        "        if word in word_list:\n",
        "            # If it is, add the expanded form to the list of expanded words\n",
        "            expanded_words.append(word_list[word])\n",
        "        else:\n",
        "            # If the word is not an abbreviation, add it to the list of expanded words as is\n",
        "            expanded_words.append(word)\n",
        "    # Join the expanded words back into a string\n",
        "    expanded_text = ' '.join(expanded_words)\n",
        "    return expanded_text\n",
        "\n",
        "# Convert non-string data types in the 'Comments' column to strings\n",
        "df['Comments'] = df['Comments'].astype(str)\n",
        "\n",
        "# LOWERCASING\n",
        "df['Comments'] = df['Comments'].str.lower()\n",
        "\n",
        "# EXPAND ABBREVIATIONS\n",
        "df['expanded_column'] = df['Comments'].apply(expand_abbreviations)\n",
        "\n",
        "# TOKENIZATION\n",
        "df['tokenized_column'] = df['expanded_column'].apply(word_tokenize)\n",
        "\n",
        "print(df['tokenized_column'])"
      ]
    },
    {
      "cell_type": "code",
      "execution_count": null,
      "metadata": {
        "colab": {
          "base_uri": "https://localhost:8080/"
        },
        "id": "tw6RQGnJTK-Z",
        "outputId": "f42a5d38-ecf1-4a2e-b6f3-b80bcb394a01"
      },
      "outputs": [
        {
          "output_type": "stream",
          "name": "stdout",
          "text": [
            "0                                   [inggit, nararamdaman]\n",
            "1                                 [educ, engineering, ...]\n",
            "2        [bat, engineering, department, apacible, schoo...\n",
            "3                          [nasa, engineering, true, love]\n",
            "4        [sana, mas, madaming, post, goods, iinaantay, ...\n",
            "                               ...                        \n",
            "10511    [pink, ribbon, nakadilaw, ?, ?, ?, ?, !, !, !,...\n",
            "10512                  [leni, nyo, tingin, muna, magsagot]\n",
            "10513          [leni, gaya-gaya, crush, ata, neto, marcos]\n",
            "10514                               [nagsinungaling, leni]\n",
            "10515         [let, lenilead, !, nangongopya, kaalyado, .]\n",
            "Name: cleaned_column, Length: 10516, dtype: object\n"
          ]
        }
      ],
      "source": [
        "# REMOVAL OF PUNCTUATIONS AND SPECIAL CHARACTERS (EXCEPT '!')\n",
        "# REMOVAL OF NUMBERS\n",
        "# EMOVAL OF EXTRA WHITE SPACE\n",
        "# REMOVAL OF URLs\n",
        "# REMOVAL OF STOP WORDS\n",
        "\n",
        "# REMOVAL OF PUNCTUATIONS AND SPECIAL CHARACTERS\n",
        "#df['cleaned_column'] = df['tokenized_column'].apply(lambda x: [re.sub(r'[^\\w\\s!]', '', word) for word in x])\n",
        "\n",
        "# REMOVAL OF URLs\n",
        "#df['cleaned_column'] = df['cleaned_column'].apply(lambda x: [re.sub(r'http[s]?://(?:[a-zA-Z]|[0-9]|[$-_@.&+]|[*\\\\(\\\\),]|(?:%[0-9a-fA-F][0-9a-fA-F]))+', '', word) for word in x if '!' not in word or word == '!'])\n",
        "\n",
        "# REMOVAL OF NUMBERS\n",
        "#df['cleaned_column'] = df['cleaned_column'].apply(lambda x: [re.sub(r'\\d+', '', word) for word in x])\n",
        "\n",
        "# REMOVAL OF STOP WORDS\n",
        "stop_words = stopwords.words('english')\n",
        "#Tagalog Stop Words - https://github.com/stopwords-iso/stopwords-tl, https://github.com/explosion/spaCy/discussions/6122\n",
        "stop_words.extend([\"akin\",\"aking\",\"ako\",\"alin\",\"am\",\"amin\",\"aming\",\"ang\",\"ano\",\"anumang\",\"apat\",\"at\",\"atin\",\"ating\",\"ay\",\"ba\", \"bababa\",\"bago\",\"bakit\",\"bawat\",\"bilang\",\"dahil\",\"dalawa\",\n",
        "                   \"dapat\",\"din\",\"dito\",\"doon\",\"eh\", \"gagawin\",\"gayunman\",\"ginagawa\",\"ginawa\",\"ginawang\",\"gumawa\",\"gusto\",\"habang\",\"hanggang\",\"hindi\",\"huwag\",\"iba\",\"ibaba\",\"ibabaw\",\"ibig\",\"ikaw\",\n",
        "                   \"ilagay\",\"ilalim\",\"ilan\",\"inyong\",\"isa\",\"isang\",\"itaas\",\"ito\",\"iyo\",\"iyon\",\"iyong\", \"lang\",\"ka\",\"kahit\",\"kailangan\",\"kailanman\",\"kami\",\"kanila\",\"kanilang\",\"kanino\",\"kanya\",\n",
        "                   \"kanyang\",\"kapag\",\"kapwa\",\"karamihan\",\"kasi\", \"katiyakan\",\"katulad\",\"kaya\",\"kaysa\",\"ko\",\"kong\",\"kulang\",\"kumuha\",\"kung\",\"laban\",\"lahat\",\"lamang\",\"lang\", \"likod\",\"lima\",\"maaari\",\"maaaring\",\n",
        "                   \"maging\",\"mahusay\",\"makita\",\"marami\",\"marapat\",\"masyado\",\"may\",\"mayroon\",\"mga\",\"minsan\",\"mismo\",\"mula\",\"muli\",\"na\",\"nabanggit\",\"naging\",\"nagkaroon\",\"nais\",\"nakita\",\"namin\",\n",
        "                   \"napaka\",\"narito\",\"nasaan\",\"ng\",\"ngayon\",\"ni\",\"nila\",\"nilang\",\"nito\",\"niya\",\"niyang\",\"noon\",\"o\",\"pa\",\"paano\",\"pababa\",\"paggawa\",\"pagitan\",\"pagkakaroon\",\"pagkatapos\",\n",
        "                   \"palabas\",\"pamamagitan\",\"panahon\",\"pangalawa\",\"para\",\"paraan\",\"pareho\",\"pataas\",\"pero\",\"pumunta\",\"pumupunta\",\"sa\",\"saan\",\"sabi\",\"sabihin\",\"sarili\",\"sila\",\"sino\",\"siya\",\n",
        "                   \"tatlo\",\"tayo\",\"tulad\",\"tungkol\",\"una\",\"walang\", \"yun\",\"yung\", \"yong\", \"naman\", \"opo\", \"po\", \"si\", \"talaga\", \"yung\"])\n",
        "\n",
        "# REMOVAL OF EXTRA WHITE SPACE\n",
        "#df['cleaned_column'] = df['tokenized_column'].apply(lambda x: [re.sub(r'\\s+', ' ', word) for word in x])\n",
        "\n",
        "df['cleaned_column'] = df['tokenized_column'].apply(lambda x: [word for word in x if word not in stop_words])\n",
        "\n",
        "# Print the 'cleaned_column' column\n",
        "print(df['cleaned_column'])"
      ]
    },
    {
      "cell_type": "code",
      "execution_count": null,
      "metadata": {
        "colab": {
          "base_uri": "https://localhost:8080/"
        },
        "id": "I2J4X6e_Wdkw",
        "outputId": "a2a66a70-0e59-44fa-95c4-233598db0852"
      },
      "outputs": [
        {
          "output_type": "stream",
          "name": "stdout",
          "text": [
            "0                       [(inggit, JJ), (nararamdaman, NN)]\n",
            "1                [(educ, NN), (engineering, NN), (..., :)]\n",
            "2        [(bat, NN), (engineering, NN), (department, NN...\n",
            "3        [(nasa, JJ), (engineering, NN), (true, JJ), (l...\n",
            "4        [(sana, NN), (mas, NN), (madaming, VBG), (post...\n",
            "                               ...                        \n",
            "10511    [(pink, NN), (ribbon, NN), (nakadilaw, NN), (?...\n",
            "10512    [(leni, NN), (nyo, MD), (tingin, VB), (muna, N...\n",
            "10513    [(leni, JJ), (gaya-gaya, JJ), (crush, NN), (at...\n",
            "10514                  [(nagsinungaling, VBG), (leni, NN)]\n",
            "10515    [(let, VB), (lenilead, NN), (!, .), (nangongop...\n",
            "Name: tagged_column, Length: 10516, dtype: object\n"
          ]
        }
      ],
      "source": [
        "#PART OF SPEECH TAGGING\n",
        "\n",
        "tagged_comments = []\n",
        "for comment in df['cleaned_column']:\n",
        "    tagged_comment = nltk.pos_tag(comment)\n",
        "    tagged_comments.append(tagged_comment)\n",
        "\n",
        "df['tagged_column'] = tagged_comments\n",
        "\n",
        "# Print the 'tagged_column' column\n",
        "print(df['tagged_column'])\n",
        "\n",
        "#POS Tags\n",
        "#Abbreviation\t      Meaning\n",
        "#CC\t                coordinating conjunction\n",
        "#CD\t                cardinal digit\n",
        "#DT\t                determiner\n",
        "#EX\t                existential there\n",
        "#FW\t                foreign word\n",
        "#IN\t                preposition/subordinating conjunction\n",
        "#JJ\t                This NLTK POS Tag is an adjective (large)\n",
        "#JJR\t              adjective, comparative (larger)\n",
        "#JJS\t              adjective, superlative (largest)\n",
        "#LS\t                list market\n",
        "#MD\t                modal (could, will)\n",
        "#NN\t                noun, singular (cat, tree)\n",
        "#NNS\t              noun plural (desks)\n",
        "#NNP\t              proper noun, singular (sarah)\n",
        "#NNPS\t              proper noun, plural (indians or americans)\n",
        "#PDT\t              predeterminer (all, both, half)\n",
        "#POS\t              possessive ending (parent\\ ‘s)\n",
        "#PRP\t              personal pronoun (hers, herself, him, himself)\n",
        "#PRP$\t              possessive pronoun (her, his, mine, my, our )\n",
        "#RB\t                adverb (occasionally, swiftly)\n",
        "#RBR\t              adverb, comparative (greater)\n",
        "#RBS\t              adverb, superlative (biggest)\n",
        "#RP\t                particle (about)\n",
        "#TO\t                infinite marker (to)\n",
        "#UH\t                interjection (goodbye)\n",
        "#VB\t                verb (ask)\n",
        "#VBG\t              verb gerund (judging)\n",
        "#VBD\t              verb past tense (pleaded)\n",
        "##VBN\t              verb past participle (reunified)\n",
        "#VBP\t              verb, present tense not 3rd person singular(wrap)\n",
        "#VBZ\t              verb, present tense with 3rd person singular (bases)\n",
        "#WDT\t              wh-determiner (that, what)\n",
        "#WP\t                wh- pronoun (who)\n",
        "#WRB\t              wh- adverb (how)"
      ]
    },
    {
      "cell_type": "code",
      "execution_count": null,
      "metadata": {
        "colab": {
          "base_uri": "https://localhost:8080/"
        },
        "id": "BC_jj7WBWPTH",
        "outputId": "3b4fd0b9-af5f-4dcd-d0e9-785c6d07757c"
      },
      "outputs": [
        {
          "output_type": "stream",
          "name": "stdout",
          "text": [
            "0                                  inggit nararamdaman\n",
            "1                                 educ engineering ...\n",
            "2    bat engineering department apacible school fis...\n",
            "3                           nasa engineering true love\n",
            "4            sana ma madaming post good iinaantay lagi\n",
            "5                         ah shet naalala ganito phase\n",
            "6       kasintahan crush physical education instructor\n",
            "7                        tawang tawa edrian macatangay\n",
            "8                                        parang kilala\n",
            "9       alyssa firme mendoza lugii muna asawa hahahaha\n",
            "Name: lemmatized_column, dtype: object\n"
          ]
        }
      ],
      "source": [
        "#LEMMATIZATION\n",
        "lemmatizer = WordNetLemmatizer()\n",
        "\n",
        "lemmatized_comments = []\n",
        "\n",
        "# Define the pos_map dictionary\n",
        "pos_map = {'J': wordnet.ADJ, 'N': wordnet.NOUN, 'V': wordnet.VERB}\n",
        "\n",
        "for tagged_comment in df['tagged_column']:\n",
        "    lemmatized_comment = []\n",
        "    for word, tag in tagged_comment:\n",
        "        # Map the tag to a WordNet part of speech\n",
        "        pos = pos_map.get(tag[0].upper(), 'n')\n",
        "        lemmatized_word = lemmatizer.lemmatize(word, pos=pos)\n",
        "        lemmatized_comment.append(lemmatized_word)\n",
        "    # Join the lemmatized words in the list using a space as the separator\n",
        "    lemmatized_comment_str = ' '.join(lemmatized_comment)\n",
        "    lemmatized_comments.append(lemmatized_comment_str)\n",
        "\n",
        "df['lemmatized_column'] = lemmatized_comments\n",
        "\n",
        "# Print the head of the 'lemmatized_column' column\n",
        "print(df['lemmatized_column'].head(10))"
      ]
    },
    {
      "cell_type": "markdown",
      "source": [
        "# Feature Extraction"
      ],
      "metadata": {
        "id": "BO9dx81mrvxH"
      }
    },
    {
      "cell_type": "code",
      "execution_count": null,
      "metadata": {
        "id": "WzXego4yeMIX",
        "colab": {
          "base_uri": "https://localhost:8080/"
        },
        "outputId": "9ace6c46-58e2-4bf7-b0e1-456231e30738"
      },
      "outputs": [
        {
          "output_type": "stream",
          "name": "stdout",
          "text": [
            "  (0, 22231)\t0.5221889634580194\n",
            "  (0, 11089)\t0.8528298109486087\n",
            "  (1, 7314)\t0.41631465051902744\n",
            "  (1, 7034)\t0.909220606763408\n",
            "  (2, 7901)\t0.5734773993152362\n",
            "  (2, 28428)\t0.27540289709961696\n",
            "  (2, 1663)\t0.5734773993152362\n",
            "  (2, 6234)\t0.3436346534225273\n",
            "  (2, 2522)\t0.3230304706442471\n",
            "  (2, 7314)\t0.20968340234968472\n",
            "  (3, 14973)\t0.4382918684808634\n",
            "  (3, 31464)\t0.6334241433208028\n",
            "  (3, 22280)\t0.508601166021824\n",
            "  (3, 7314)\t0.3847063121435645\n",
            "  (4, 14294)\t0.29250082104645975\n",
            "  (4, 10601)\t0.6393097789178727\n",
            "  (4, 8767)\t0.28976563922251036\n",
            "  (4, 26625)\t0.3559031400043612\n",
            "  (4, 15420)\t0.4216028577199841\n",
            "  (4, 15203)\t0.2685189641469304\n",
            "  (4, 28183)\t0.21270566937422253\n",
            "  (5, 25672)\t0.4972775111042165\n",
            "  (5, 8352)\t0.3684399604334872\n",
            "  (5, 19225)\t0.42318107641751573\n",
            "  (5, 28766)\t0.5277814137598301\n",
            "  :\t:\n",
            "  (10510, 6052)\t0.20003521863903165\n",
            "  (10510, 32598)\t0.12951957027156083\n",
            "  (10511, 20834)\t0.473579075979531\n",
            "  (10511, 26637)\t0.45350928112144206\n",
            "  (10511, 14585)\t0.23980137134540513\n",
            "  (10511, 1637)\t0.45350928112144206\n",
            "  (10511, 27767)\t0.41919974019643186\n",
            "  (10511, 26288)\t0.3621441740355716\n",
            "  (10512, 14585)\t0.3730284027304782\n",
            "  (10512, 16308)\t0.6833155795157109\n",
            "  (10512, 31072)\t0.4135102216647258\n",
            "  (10512, 23330)\t0.29535519353232914\n",
            "  (10512, 19076)\t0.3683805583628515\n",
            "  (10513, 14585)\t0.2676689846634711\n",
            "  (10513, 17894)\t0.3674061331307553\n",
            "  (10513, 22702)\t0.38689967354934934\n",
            "  (10513, 8438)\t0.710753624480268\n",
            "  (10513, 1922)\t0.2773020881086908\n",
            "  (10513, 5730)\t0.2482086376685171\n",
            "  (10514, 14585)\t0.5034310131330352\n",
            "  (10514, 20380)\t0.8640354246301745\n",
            "  (10515, 12362)\t0.5697217931170331\n",
            "  (10515, 14590)\t0.5697217931170331\n",
            "  (10515, 21818)\t0.5151594431974262\n",
            "  (10515, 14613)\t0.2923096046652297\n"
          ]
        }
      ],
      "source": [
        "#calling the TfidfVectorizer\n",
        "vectorize= TfidfVectorizer()\n",
        "#fitting the model and passing our sentences right away:\n",
        "response= vectorize.fit_transform(df['lemmatized_column'])\n",
        "\n",
        "print(response)"
      ]
    },
    {
      "cell_type": "markdown",
      "source": [
        "# Ensemble Model - DT and SVM\n"
      ],
      "metadata": {
        "id": "Y48KntW3r2VY"
      }
    },
    {
      "cell_type": "code",
      "source": [
        "# DT and SVM ENSEMBLE USING THE BEST HYPERPARAMETERS\n",
        "\n",
        "# Initialize TfidfVectorizer\n",
        "vectorizer = TfidfVectorizer()\n",
        "\n",
        "# Fit and transform the 'lemmatized_column' column\n",
        "X = vectorizer.fit_transform(df['lemmatized_column'])\n",
        "\n",
        "# Get the labels\n",
        "y = df['Label']\n",
        "\n",
        "# Apply feature selection on the dataset\n",
        "selector = SelectKBest(chi2, k=1000)\n",
        "X_new = selector.fit_transform(X, y)\n",
        "\n",
        "# Split the data into training and testing sets\n",
        "X_train, X_test, y_train, y_test = train_test_split(X_new, y, test_size=0.2, random_state=42)\n",
        "\n",
        "# Initialize Decision Tree and Multinomial Naive Bayes classifiers\n",
        "dt_clf = DecisionTreeClassifier(criterion='gini', max_depth=None, min_samples_leaf=1, min_samples_split=10)\n",
        "svm_clf = SVC(C= 1, degree = 1, gamma = 10, kernel = 'sigmoid', probability=True)\n",
        "\n",
        "# Create a VotingClassifier\n",
        "ensemble_clf = VotingClassifier(estimators=[('dt', dt_clf), ('SVM', svm_clf)], voting='soft')\n",
        "\n",
        "# Train the ensemble classifier\n",
        "ensemble_clf.fit(X_train, y_train)\n",
        "\n",
        "# Make predictions on the testing set\n",
        "y_pred = ensemble_clf.predict(X_test)\n",
        "\n",
        "# Print the classification report\n",
        "print(classification_report(y_test, y_pred))\n",
        "\n",
        "# Print the accuracy of each model\n",
        "print(\"Ensemble Classifier accuracy:\", ensemble_clf.score(X_test, y_test))"
      ],
      "metadata": {
        "colab": {
          "base_uri": "https://localhost:8080/"
        },
        "id": "EsjRrKjbkE9S",
        "outputId": "44b216d7-9d01-4261-a02d-0915075c76b2"
      },
      "execution_count": null,
      "outputs": [
        {
          "output_type": "stream",
          "name": "stdout",
          "text": [
            "              precision    recall  f1-score   support\n",
            "\n",
            "       anger       0.69      0.62      0.65       111\n",
            "        fear       0.68      0.60      0.64        35\n",
            "         joy       0.92      0.95      0.94      1578\n",
            "     sadness       0.83      0.76      0.79       380\n",
            "\n",
            "    accuracy                           0.89      2104\n",
            "   macro avg       0.78      0.73      0.75      2104\n",
            "weighted avg       0.89      0.89      0.89      2104\n",
            "\n",
            "Ensemble Classifier accuracy: 0.8921102661596958\n"
          ]
        }
      ]
    },
    {
      "cell_type": "code",
      "source": [
        "# Get the confusion matrix\n",
        "conf_matrix = confusion_matrix(y_test, y_pred)\n",
        "\n",
        "# Create a heatmap using seaborn\n",
        "plt.figure(figsize=(8, 6))\n",
        "sns.heatmap(conf_matrix, annot=True, fmt='d', cmap='Blues', xticklabels=['anger',  'fear', 'joy', 'sadness'], yticklabels=['anger',  'fear', 'joy', 'sadness'])\n",
        "plt.xlabel('Predicted label')\n",
        "plt.ylabel('True label')\n",
        "plt.title('Confusion Matrix for Ensemble Classifier')\n",
        "plt.show()"
      ],
      "metadata": {
        "colab": {
          "base_uri": "https://localhost:8080/",
          "height": 564
        },
        "id": "SXRNZ7a7K_js",
        "outputId": "c13b0215-02e8-4b48-a989-f4d599ad7fde"
      },
      "execution_count": null,
      "outputs": [
        {
          "output_type": "display_data",
          "data": {
            "text/plain": [
              "<Figure size 800x600 with 2 Axes>"
            ],
            "image/png": "[encoded data removed]"
          },
          "metadata": {}
        }
      ]
    },
    {
      "cell_type": "code",
      "source": [
        "print(confusion_matrix(y_test, y_pred))"
      ],
      "metadata": {
        "colab": {
          "base_uri": "https://localhost:8080/"
        },
        "id": "t9bQDNjSBgGS",
        "outputId": "e14fe7a4-5cdd-4311-ab07-a1e76f452c4a"
      },
      "execution_count": null,
      "outputs": [
        {
          "output_type": "stream",
          "name": "stdout",
          "text": [
            "[[  69    2   33    7]\n",
            " [   0   21   12    2]\n",
            " [  24    6 1500   48]\n",
            " [   7    2   84  287]]\n"
          ]
        }
      ]
    },
    {
      "cell_type": "markdown",
      "source": [
        "# Cross Validation"
      ],
      "metadata": {
        "id": "FcUM2tsir_rL"
      }
    },
    {
      "cell_type": "code",
      "source": [
        "# Cross-validation\n",
        "from sklearn.model_selection import cross_val_score\n",
        "\n",
        "clf = ensemble_clf\n",
        "scores = cross_val_score(clf, X_new, y, cv=10)\n",
        "\n",
        "print(\"Cross-validation scores:\", scores)\n",
        "print(\"%0.2f accuracy with a standard deviation of %0.2f\" % (scores.mean(), scores.std()))"
      ],
      "metadata": {
        "colab": {
          "base_uri": "https://localhost:8080/"
        },
        "id": "lEuCEleWfyKV",
        "outputId": "6fc60c2f-203a-43b7-a8f1-a3986a12818f"
      },
      "execution_count": null,
      "outputs": [
        {
          "output_type": "stream",
          "name": "stdout",
          "text": [
            "Cross-validation scores: [0.86787072 0.85456274 0.80038023 0.86882129 0.87547529 0.89448669\n",
            " 0.91531874 0.93910561 0.92863939 0.85632731]\n",
            "0.88 accuracy with a standard deviation of 0.04\n"
          ]
        }
      ]
    },
    {
      "cell_type": "code",
      "source": [
        "# Cross-validation scores\n",
        "scores = [0.86787072, 0.85456274, 0.80038023, 0.86882129, 0.87547529, 0.89448669, 0.91531874, 0.93910561, 0.92863939, 0.85632731]\n",
        "\n",
        "# Calculate mean and standard deviation\n",
        "mean = sum(scores) / len(scores)\n",
        "std_dev = (sum((x - mean)**2 for x in scores) / len(scores))**0.5\n",
        "\n",
        "# Create a bar graph of the cross-validation scores\n",
        "plt.bar(range(0, 10), scores)\n",
        "plt.xlabel('Iterations')\n",
        "plt.ylabel('Score')\n",
        "plt.title('Cross-Validation Scores (Mean: 0.88, Standard Deviation: 0.04)')\n",
        "for i, score in enumerate(scores):\n",
        "    plt.text(i, score + 0.005, str(round(score, 4)), ha='center')\n",
        "plt.show()"
      ],
      "metadata": {
        "colab": {
          "base_uri": "https://localhost:8080/",
          "height": 472
        },
        "id": "-qcSSJePZTCp",
        "outputId": "342dcc95-2223-45f9-cd7d-96f1251e984f"
      },
      "execution_count": null,
      "outputs": [
        {
          "output_type": "display_data",
          "data": {
            "text/plain": [
              "<Figure size 640x480 with 1 Axes>"
            ],
            "image/png": "[encoded data removed]"
          },
          "metadata": {}
        }
      ]
    }
  ]
}